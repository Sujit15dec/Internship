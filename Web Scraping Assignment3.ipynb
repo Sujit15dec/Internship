{
 "cells": [
  {
   "cell_type": "markdown",
   "id": "e2fc9698",
   "metadata": {},
   "source": [
    "Q1. Write a python program which searches all the product under a particular product vertical\n",
    "from www.amazon.in. The product verticals to be searched will be taken as input from user.\n",
    "For e.g. If user input is ‘guitar’. Then search for guitars."
   ]
  },
  {
   "cell_type": "code",
   "execution_count": 1,
   "id": "ec0d96c4",
   "metadata": {},
   "outputs": [],
   "source": [
    "# Importing Libraries\n",
    "import selenium\n",
    "import pandas as pd\n",
    "import time\n",
    "from bs4 import BeautifulSoup\n",
    "\n",
    "# Importing selenium webdriver \n",
    "from selenium import webdriver\n",
    "\n",
    "# Importing required Exceptions which needs to handled\n",
    "from selenium.common.exceptions import StaleElementReferenceException, NoSuchElementException\n",
    "\n",
    "#Importing requests\n",
    "import requests\n",
    "\n",
    "# importing regex\n",
    "import re"
   ]
  },
  {
   "cell_type": "code",
   "execution_count": 2,
   "id": "f20e8bac",
   "metadata": {},
   "outputs": [
    {
     "name": "stderr",
     "output_type": "stream",
     "text": [
      "<ipython-input-2-769922e8377b>:1: DeprecationWarning: executable_path has been deprecated, please pass in a Service object\n",
      "  driver = webdriver.Chrome(r\"C:\\Users\\HP\\Downloads\\chromedriver_win32/chromedriver.exe\")\n"
     ]
    }
   ],
   "source": [
    "driver = webdriver.Chrome(r\"C:\\Users\\HP\\Downloads\\chromedriver_win32/chromedriver.exe\")\n",
    "driver.get('https://www.amazon.in/')"
   ]
  },
  {
   "cell_type": "code",
   "execution_count": 3,
   "id": "39547b9e",
   "metadata": {},
   "outputs": [
    {
     "name": "stderr",
     "output_type": "stream",
     "text": [
      "<ipython-input-3-5b2c43118ac4>:1: DeprecationWarning: find_element_by_* commands are deprecated. Please use find_element() instead\n",
      "  target=driver.find_element_by_xpath('/html/body/div[1]/header/div/div[1]/div[2]/div/form/div[2]/div[1]/input')\n",
      "<ipython-input-3-5b2c43118ac4>:6: DeprecationWarning: find_element_by_* commands are deprecated. Please use find_element() instead\n",
      "  search_btn=driver.find_element_by_xpath('/html/body/div[1]/header/div/div[1]/div[2]/div/form/div[3]/div/span/input')\n"
     ]
    }
   ],
   "source": [
    "target=driver.find_element_by_xpath('/html/body/div[1]/header/div/div[1]/div[2]/div/form/div[2]/div[1]/input')\n",
    "target.click()\n",
    "\n",
    "target.send_keys(\"guitar\")\n",
    "\n",
    "search_btn=driver.find_element_by_xpath('/html/body/div[1]/header/div/div[1]/div[2]/div/form/div[3]/div/span/input')\n",
    "search_btn.click()"
   ]
  },
  {
   "cell_type": "markdown",
   "id": "30fe3810",
   "metadata": {},
   "source": [
    "Q2. In the above question, now scrape the following details of each product listed in first 3 pages \n",
    "of your search results and save it in a data frame and csv. In case if any product vertical has \n",
    "less than 3 pages in search results then scrape all the products available under that product \n",
    "vertical. Details to be scraped are: \"Brand Name\", \"Name of the Product\", \"Rating\", \"No. of \n",
    "Ratings\", \"Price\", \"Return/Exchange\", \"Expected Delivery\", \"Availability\", \"Other Details\" \n",
    "and “Product URL”. In case, if any of the details are missing for any of the product then \n",
    "replace it by “-“."
   ]
  },
  {
   "cell_type": "code",
   "execution_count": 4,
   "id": "a703a7bd",
   "metadata": {},
   "outputs": [],
   "source": [
    "url1=\"https://www.amazon.in/s?k=guitar&ref=nb_sb_noss\"\n",
    "driver.get(url1)"
   ]
  },
  {
   "cell_type": "code",
   "execution_count": 5,
   "id": "21ab5057",
   "metadata": {},
   "outputs": [],
   "source": [
    "#creating the empty list\n",
    "brand=[]\n",
    "product=[]\n",
    "rating=[]\n",
    "no_of_rating=[]\n",
    "price=[]\n",
    "return_and_exchange=[]\n",
    "expected_delivery=[]\n",
    "availability=[]\n",
    "other_detail=[]\n",
    "product_url=[]"
   ]
  },
  {
   "cell_type": "code",
   "execution_count": 6,
   "id": "8983022b",
   "metadata": {},
   "outputs": [
    {
     "name": "stderr",
     "output_type": "stream",
     "text": [
      "<ipython-input-6-c341b6e0604e>:6: DeprecationWarning: find_elements_by_* commands are deprecated. Please use find_elements() instead\n",
      "  brands=driver.find_elements_by_xpath('//*[@id=\"search\"]/div[1]/div[1]/div/span[3]/div[2]/div[2]/div/span/div/div/div/div/div[2]/div[1]/h2/a/span')\n",
      "<ipython-input-6-c341b6e0604e>:9: DeprecationWarning: find_elements_by_* commands are deprecated. Please use find_elements() instead\n",
      "  products=driver.find_elements_by_xpath('//*[@id=\"search\"]/div[1]/div[1]/div/span[3]/div[2]/div[2]/div/span/div/div/div/div/div[2]/div[1]/h2/a/span')\n",
      "<ipython-input-6-c341b6e0604e>:12: DeprecationWarning: find_elements_by_* commands are deprecated. Please use find_elements() instead\n",
      "  ratings=driver.find_elements_by_xpath('//*[@id=\"search\"]/div[1]/div[1]/div/span[3]/div[2]/div[2]/div/span/div/div/div/div/div[2]/div[1]/h2/a/span')\n",
      "<ipython-input-6-c341b6e0604e>:15: DeprecationWarning: find_elements_by_* commands are deprecated. Please use find_elements() instead\n",
      "  no_of_ratings=driver.find_elements_by_xpath('//*[@id=\"search\"]/div[1]/div[1]/div/span[3]/div[2]/div[2]/div/span/div/div/div/div/div[2]/div[1]/h2/a/span')\n",
      "<ipython-input-6-c341b6e0604e>:18: DeprecationWarning: find_elements_by_* commands are deprecated. Please use find_elements() instead\n",
      "  prices=driver.find_elements_by_xpath('//*[@id=\"search\"]/div[1]/div[1]/div/span[3]/div[2]/div[2]/div/span/div/div/div/div/div[2]/div[1]/h2/a/span')\n",
      "<ipython-input-6-c341b6e0604e>:21: DeprecationWarning: find_elements_by_* commands are deprecated. Please use find_elements() instead\n",
      "  return_and_exchanges=driver.find_elements_by_xpath('//*[@id=\"search\"]/div[1]/div[1]/div/span[3]/div[2]/div[2]/div/span/div/div/div/div/div[2]/div[1]/h2/a/span')\n",
      "<ipython-input-6-c341b6e0604e>:24: DeprecationWarning: find_elements_by_* commands are deprecated. Please use find_elements() instead\n",
      "  expected_deliverys=driver.find_elements_by_xpath('//*[@id=\"search\"]/div[1]/div[1]/div/span[3]/div[2]/div[2]/div/span/div/div/div/div/div[2]/div[1]/h2/a/span')\n",
      "<ipython-input-6-c341b6e0604e>:27: DeprecationWarning: find_elements_by_* commands are deprecated. Please use find_elements() instead\n",
      "  availabilitys=driver.find_elements_by_xpath('//*[@id=\"search\"]/div[1]/div[1]/div/span[3]/div[2]/div[2]/div/span/div/div/div/div/div[2]/div[1]/h2/a/span')\n",
      "<ipython-input-6-c341b6e0604e>:30: DeprecationWarning: find_elements_by_* commands are deprecated. Please use find_elements() instead\n",
      "  other_details=driver.find_elements_by_xpath('//*[@id=\"search\"]/div[1]/div[1]/div/span[3]/div[2]/div[2]/div/span/div/div/div/div/div[2]/div[1]/h2/a/span')\n",
      "<ipython-input-6-c341b6e0604e>:33: DeprecationWarning: find_elements_by_* commands are deprecated. Please use find_elements() instead\n",
      "  product_urls=driver.find_elements_by_xpath('//*[@id=\"search\"]/div[1]/div[1]/div/span[3]/div[2]/div[2]/div/span/div/div/div/div/div[2]/div[1]/h2/a/span')\n"
     ]
    }
   ],
   "source": [
    "time.sleep(3)\n",
    "#scrapping the required details\n",
    "start=0\n",
    "end=4\n",
    "for page in range(start,end):\n",
    "    brands=driver.find_elements_by_xpath('//*[@id=\"search\"]/div[1]/div[1]/div/span[3]/div[2]/div[2]/div/span/div/div/div/div/div[2]/div[1]/h2/a/span')\n",
    "    for i in brands:\n",
    "        brand.append(i.text)\n",
    "        products=driver.find_elements_by_xpath('//*[@id=\"search\"]/div[1]/div[1]/div/span[3]/div[2]/div[2]/div/span/div/div/div/div/div[2]/div[1]/h2/a/span')\n",
    "    for i in products:\n",
    "        product.append(i.text)\n",
    "        ratings=driver.find_elements_by_xpath('//*[@id=\"search\"]/div[1]/div[1]/div/span[3]/div[2]/div[2]/div/span/div/div/div/div/div[2]/div[1]/h2/a/span')\n",
    "    for i in ratings:\n",
    "        rating.append(i.text)\n",
    "        no_of_ratings=driver.find_elements_by_xpath('//*[@id=\"search\"]/div[1]/div[1]/div/span[3]/div[2]/div[2]/div/span/div/div/div/div/div[2]/div[1]/h2/a/span')\n",
    "    for i in no_of_ratings:\n",
    "        no_of_rating.append(i.text)\n",
    "        prices=driver.find_elements_by_xpath('//*[@id=\"search\"]/div[1]/div[1]/div/span[3]/div[2]/div[2]/div/span/div/div/div/div/div[2]/div[1]/h2/a/span')\n",
    "    for i in prices:\n",
    "        price.append(i.text)\n",
    "        return_and_exchanges=driver.find_elements_by_xpath('//*[@id=\"search\"]/div[1]/div[1]/div/span[3]/div[2]/div[2]/div/span/div/div/div/div/div[2]/div[1]/h2/a/span')\n",
    "    for i in return_and_exchanges:\n",
    "        return_and_exchange.append(i.text)\n",
    "        expected_deliverys=driver.find_elements_by_xpath('//*[@id=\"search\"]/div[1]/div[1]/div/span[3]/div[2]/div[2]/div/span/div/div/div/div/div[2]/div[1]/h2/a/span')\n",
    "    for i in expected_deliverys:\n",
    "        expected_delivery.append(i.text)\n",
    "        availabilitys=driver.find_elements_by_xpath('//*[@id=\"search\"]/div[1]/div[1]/div/span[3]/div[2]/div[2]/div/span/div/div/div/div/div[2]/div[1]/h2/a/span')\n",
    "    for i in availabilitys:\n",
    "        availability.append(i.text)\n",
    "        other_details=driver.find_elements_by_xpath('//*[@id=\"search\"]/div[1]/div[1]/div/span[3]/div[2]/div[2]/div/span/div/div/div/div/div[2]/div[1]/h2/a/span')\n",
    "    for i in other_details:\n",
    "        other_detail.append(i.text)\n",
    "        product_urls=driver.find_elements_by_xpath('//*[@id=\"search\"]/div[1]/div[1]/div/span[3]/div[2]/div[2]/div/span/div/div/div/div/div[2]/div[1]/h2/a/span')\n",
    "    for i in product_urls:\n",
    "        product_url.append(i.text)"
   ]
  },
  {
   "cell_type": "code",
   "execution_count": null,
   "id": "7592d900",
   "metadata": {},
   "outputs": [],
   "source": [
    "#creating a dataframe\n",
    "df=pd.DataFrame({'Brand':brand,\n",
    "                 'Product':product,\n",
    "                 'Rating':rating,\n",
    "                 'No Of Rating':no_of_rating,\n",
    "                 'Price':price,\n",
    "                 'Retiurn And Exchange':return_and_exchange,\n",
    "                 'Expected Delivery':expected_delivery,\n",
    "                 'Availability':availability,\n",
    "                 'Other Detail':other_detail,\n",
    "                 'Product Url':product_url})\n",
    "\n",
    "#printing dataframe\n",
    "df"
   ]
  },
  {
   "cell_type": "markdown",
   "id": "ebad9d13",
   "metadata": {},
   "source": [
    "Q3 Write a python program to access the search bar and search button on images.google.com and \n",
    "scrape 100 images each for keywords ‘fruits’, ‘cars’ and ‘Machine Learning’.\n"
   ]
  },
  {
   "cell_type": "code",
   "execution_count": 8,
   "id": "2ab6c5d8",
   "metadata": {},
   "outputs": [
    {
     "name": "stderr",
     "output_type": "stream",
     "text": [
      "<ipython-input-8-a05e06341be8>:1: DeprecationWarning: executable_path has been deprecated, please pass in a Service object\n",
      "  driver = webdriver.Chrome(r\"C:\\Users\\HP\\Downloads\\chromedriver_win32/chromedriver.exe\")\n"
     ]
    }
   ],
   "source": [
    "driver = webdriver.Chrome(r\"C:\\Users\\HP\\Downloads\\chromedriver_win32/chromedriver.exe\")\n",
    "driver.get('https://images.google.com/')"
   ]
  },
  {
   "cell_type": "code",
   "execution_count": null,
   "id": "de0f77c8",
   "metadata": {},
   "outputs": [],
   "source": []
  }
 ],
 "metadata": {
  "kernelspec": {
   "display_name": "Python 3",
   "language": "python",
   "name": "python3"
  },
  "language_info": {
   "codemirror_mode": {
    "name": "ipython",
    "version": 3
   },
   "file_extension": ".py",
   "mimetype": "text/x-python",
   "name": "python",
   "nbconvert_exporter": "python",
   "pygments_lexer": "ipython3",
   "version": "3.8.8"
  }
 },
 "nbformat": 4,
 "nbformat_minor": 5
}
