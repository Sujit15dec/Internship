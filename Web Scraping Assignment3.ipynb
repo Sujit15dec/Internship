{
 "cells": [
  {
   "cell_type": "markdown",
   "id": "9110c19b",
   "metadata": {},
   "source": [
    "# WEB SCRAPING ASSIGNMENT 3"
   ]
  },
  {
   "cell_type": "markdown",
   "id": "8c4fc3b8",
   "metadata": {},
   "source": [
    "Q1. Write a python program which searches all the product under a particular product vertical\n",
    "from www.amazon.in. The product verticals to be searched will be taken as input from user.\n",
    "For e.g. If user input is ‘guitar’. Then search for guitars."
   ]
  },
  {
   "cell_type": "code",
   "execution_count": 1,
   "id": "f3b3a36f",
   "metadata": {},
   "outputs": [],
   "source": [
    "# Importing Libraries\n",
    "import selenium\n",
    "import pandas as pd\n",
    "import time\n",
    "from bs4 import BeautifulSoup\n",
    "\n",
    "# Importing selenium webdriver \n",
    "from selenium import webdriver\n",
    "\n",
    "# Importing required Exceptions which needs to handled\n",
    "from selenium.common.exceptions import StaleElementReferenceException, NoSuchElementException\n",
    "\n",
    "#Importing requests\n",
    "import requests\n",
    "\n",
    "# importing regex\n",
    "import re"
   ]
  },
  {
   "cell_type": "code",
   "execution_count": 2,
   "id": "374199ff",
   "metadata": {},
   "outputs": [
    {
     "name": "stderr",
     "output_type": "stream",
     "text": [
      "<ipython-input-2-769922e8377b>:1: DeprecationWarning: executable_path has been deprecated, please pass in a Service object\n",
      "  driver = webdriver.Chrome(r\"C:\\Users\\HP\\Downloads\\chromedriver_win32/chromedriver.exe\")\n"
     ]
    }
   ],
   "source": [
    "driver = webdriver.Chrome(r\"C:\\Users\\HP\\Downloads\\chromedriver_win32/chromedriver.exe\")\n",
    "driver.get('https://www.amazon.in/')"
   ]
  },
  {
   "cell_type": "code",
   "execution_count": 3,
   "id": "c2a1ebba",
   "metadata": {},
   "outputs": [
    {
     "name": "stderr",
     "output_type": "stream",
     "text": [
      "<ipython-input-3-5b2c43118ac4>:1: DeprecationWarning: find_element_by_* commands are deprecated. Please use find_element() instead\n",
      "  target=driver.find_element_by_xpath('/html/body/div[1]/header/div/div[1]/div[2]/div/form/div[2]/div[1]/input')\n",
      "<ipython-input-3-5b2c43118ac4>:6: DeprecationWarning: find_element_by_* commands are deprecated. Please use find_element() instead\n",
      "  search_btn=driver.find_element_by_xpath('/html/body/div[1]/header/div/div[1]/div[2]/div/form/div[3]/div/span/input')\n"
     ]
    }
   ],
   "source": [
    "target=driver.find_element_by_xpath('/html/body/div[1]/header/div/div[1]/div[2]/div/form/div[2]/div[1]/input')\n",
    "target.click()\n",
    "\n",
    "target.send_keys(\"guitar\")\n",
    "\n",
    "search_btn=driver.find_element_by_xpath('/html/body/div[1]/header/div/div[1]/div[2]/div/form/div[3]/div/span/input')\n",
    "search_btn.click()"
   ]
  },
  {
   "cell_type": "markdown",
   "id": "3e8b26a8",
   "metadata": {},
   "source": [
    "Q2. In the above question, now scrape the following details of each product listed in first 3 pages \n",
    "of your search results and save it in a data frame and csv. In case if any product vertical has \n",
    "less than 3 pages in search results then scrape all the products available under that product \n",
    "vertical. Details to be scraped are: \"Brand Name\", \"Name of the Product\", \"Rating\", \"No. of \n",
    "Ratings\", \"Price\", \"Return/Exchange\", \"Expected Delivery\", \"Availability\", \"Other Details\" \n",
    "and “Product URL”. In case, if any of the details are missing for any of the product then \n",
    "replace it by “-“."
   ]
  },
  {
   "cell_type": "code",
   "execution_count": 4,
   "id": "63ccbb68",
   "metadata": {},
   "outputs": [],
   "source": [
    "url1=\"https://www.amazon.in/s?k=guitar&ref=nb_sb_noss\"\n",
    "driver.get(url1)"
   ]
  },
  {
   "cell_type": "code",
   "execution_count": 5,
   "id": "f45dd865",
   "metadata": {},
   "outputs": [],
   "source": [
    "#creating the empty list\n",
    "brand=[]\n",
    "product=[]\n",
    "rating=[]\n",
    "no_of_rating=[]\n",
    "price=[]\n",
    "return_and_exchange=[]\n",
    "expected_delivery=[]\n",
    "availability=[]\n",
    "other_detail=[]\n",
    "product_url=[]"
   ]
  },
  {
   "cell_type": "code",
   "execution_count": 6,
   "id": "a3cbe84c",
   "metadata": {},
   "outputs": [
    {
     "name": "stderr",
     "output_type": "stream",
     "text": [
      "<ipython-input-6-c341b6e0604e>:6: DeprecationWarning: find_elements_by_* commands are deprecated. Please use find_elements() instead\n",
      "  brands=driver.find_elements_by_xpath('//*[@id=\"search\"]/div[1]/div[1]/div/span[3]/div[2]/div[2]/div/span/div/div/div/div/div[2]/div[1]/h2/a/span')\n",
      "<ipython-input-6-c341b6e0604e>:9: DeprecationWarning: find_elements_by_* commands are deprecated. Please use find_elements() instead\n",
      "  products=driver.find_elements_by_xpath('//*[@id=\"search\"]/div[1]/div[1]/div/span[3]/div[2]/div[2]/div/span/div/div/div/div/div[2]/div[1]/h2/a/span')\n",
      "<ipython-input-6-c341b6e0604e>:12: DeprecationWarning: find_elements_by_* commands are deprecated. Please use find_elements() instead\n",
      "  ratings=driver.find_elements_by_xpath('//*[@id=\"search\"]/div[1]/div[1]/div/span[3]/div[2]/div[2]/div/span/div/div/div/div/div[2]/div[1]/h2/a/span')\n",
      "<ipython-input-6-c341b6e0604e>:15: DeprecationWarning: find_elements_by_* commands are deprecated. Please use find_elements() instead\n",
      "  no_of_ratings=driver.find_elements_by_xpath('//*[@id=\"search\"]/div[1]/div[1]/div/span[3]/div[2]/div[2]/div/span/div/div/div/div/div[2]/div[1]/h2/a/span')\n",
      "<ipython-input-6-c341b6e0604e>:18: DeprecationWarning: find_elements_by_* commands are deprecated. Please use find_elements() instead\n",
      "  prices=driver.find_elements_by_xpath('//*[@id=\"search\"]/div[1]/div[1]/div/span[3]/div[2]/div[2]/div/span/div/div/div/div/div[2]/div[1]/h2/a/span')\n",
      "<ipython-input-6-c341b6e0604e>:21: DeprecationWarning: find_elements_by_* commands are deprecated. Please use find_elements() instead\n",
      "  return_and_exchanges=driver.find_elements_by_xpath('//*[@id=\"search\"]/div[1]/div[1]/div/span[3]/div[2]/div[2]/div/span/div/div/div/div/div[2]/div[1]/h2/a/span')\n",
      "<ipython-input-6-c341b6e0604e>:24: DeprecationWarning: find_elements_by_* commands are deprecated. Please use find_elements() instead\n",
      "  expected_deliverys=driver.find_elements_by_xpath('//*[@id=\"search\"]/div[1]/div[1]/div/span[3]/div[2]/div[2]/div/span/div/div/div/div/div[2]/div[1]/h2/a/span')\n",
      "<ipython-input-6-c341b6e0604e>:27: DeprecationWarning: find_elements_by_* commands are deprecated. Please use find_elements() instead\n",
      "  availabilitys=driver.find_elements_by_xpath('//*[@id=\"search\"]/div[1]/div[1]/div/span[3]/div[2]/div[2]/div/span/div/div/div/div/div[2]/div[1]/h2/a/span')\n",
      "<ipython-input-6-c341b6e0604e>:30: DeprecationWarning: find_elements_by_* commands are deprecated. Please use find_elements() instead\n",
      "  other_details=driver.find_elements_by_xpath('//*[@id=\"search\"]/div[1]/div[1]/div/span[3]/div[2]/div[2]/div/span/div/div/div/div/div[2]/div[1]/h2/a/span')\n",
      "<ipython-input-6-c341b6e0604e>:33: DeprecationWarning: find_elements_by_* commands are deprecated. Please use find_elements() instead\n",
      "  product_urls=driver.find_elements_by_xpath('//*[@id=\"search\"]/div[1]/div[1]/div/span[3]/div[2]/div[2]/div/span/div/div/div/div/div[2]/div[1]/h2/a/span')\n"
     ]
    }
   ],
   "source": [
    "time.sleep(3)\n",
    "#scrapping the required details\n",
    "start=0\n",
    "end=4\n",
    "for page in range(start,end):\n",
    "    brands=driver.find_elements_by_xpath('//*[@id=\"search\"]/div[1]/div[1]/div/span[3]/div[2]/div[2]/div/span/div/div/div/div/div[2]/div[1]/h2/a/span')\n",
    "    for i in brands:\n",
    "        brand.append(i.text)\n",
    "        products=driver.find_elements_by_xpath('//*[@id=\"search\"]/div[1]/div[1]/div/span[3]/div[2]/div[2]/div/span/div/div/div/div/div[2]/div[1]/h2/a/span')\n",
    "    for i in products:\n",
    "        product.append(i.text)\n",
    "        ratings=driver.find_elements_by_xpath('//*[@id=\"search\"]/div[1]/div[1]/div/span[3]/div[2]/div[2]/div/span/div/div/div/div/div[2]/div[1]/h2/a/span')\n",
    "    for i in ratings:\n",
    "        rating.append(i.text)\n",
    "        no_of_ratings=driver.find_elements_by_xpath('//*[@id=\"search\"]/div[1]/div[1]/div/span[3]/div[2]/div[2]/div/span/div/div/div/div/div[2]/div[1]/h2/a/span')\n",
    "    for i in no_of_ratings:\n",
    "        no_of_rating.append(i.text)\n",
    "        prices=driver.find_elements_by_xpath('//*[@id=\"search\"]/div[1]/div[1]/div/span[3]/div[2]/div[2]/div/span/div/div/div/div/div[2]/div[1]/h2/a/span')\n",
    "    for i in prices:\n",
    "        price.append(i.text)\n",
    "        return_and_exchanges=driver.find_elements_by_xpath('//*[@id=\"search\"]/div[1]/div[1]/div/span[3]/div[2]/div[2]/div/span/div/div/div/div/div[2]/div[1]/h2/a/span')\n",
    "    for i in return_and_exchanges:\n",
    "        return_and_exchange.append(i.text)\n",
    "        expected_deliverys=driver.find_elements_by_xpath('//*[@id=\"search\"]/div[1]/div[1]/div/span[3]/div[2]/div[2]/div/span/div/div/div/div/div[2]/div[1]/h2/a/span')\n",
    "    for i in expected_deliverys:\n",
    "        expected_delivery.append(i.text)\n",
    "        availabilitys=driver.find_elements_by_xpath('//*[@id=\"search\"]/div[1]/div[1]/div/span[3]/div[2]/div[2]/div/span/div/div/div/div/div[2]/div[1]/h2/a/span')\n",
    "    for i in availabilitys:\n",
    "        availability.append(i.text)\n",
    "        other_details=driver.find_elements_by_xpath('//*[@id=\"search\"]/div[1]/div[1]/div/span[3]/div[2]/div[2]/div/span/div/div/div/div/div[2]/div[1]/h2/a/span')\n",
    "    for i in other_details:\n",
    "        other_detail.append(i.text)\n",
    "        product_urls=driver.find_elements_by_xpath('//*[@id=\"search\"]/div[1]/div[1]/div/span[3]/div[2]/div[2]/div/span/div/div/div/div/div[2]/div[1]/h2/a/span')\n",
    "    for i in product_urls:\n",
    "        product_url.append(i.text)"
   ]
  },
  {
   "cell_type": "code",
   "execution_count": 41,
   "id": "26e2a797",
   "metadata": {},
   "outputs": [],
   "source": [
    "#creating a dataframe\n",
    "df=pd.DataFrame({'Brand':brand,\n",
    "                 'Product':product,\n",
    "                 'Rating':rating,\n",
    "                 'No Of Rating':no_of_rating,\n",
    "                 'Price':price,\n",
    "                 'Retiurn And Exchange':return_and_exchange,\n",
    "                 'Expected Delivery':expected_delivery,\n",
    "                 'Availability':availability,\n",
    "                 'Other Detail':other_detail,\n",
    "                 'Product Url':product_url})\n",
    "\n",
    "#printing dataframe\n",
    "df"
   ]
  },
  {
   "cell_type": "markdown",
   "id": "6fed4dea",
   "metadata": {},
   "source": [
    "Q3 Write a python program to access the search bar and search button on images.google.com and \n",
    "scrape 100 images each for keywords ‘fruits’, ‘cars’ and ‘Machine Learning’.\n"
   ]
  },
  {
   "cell_type": "code",
   "execution_count": 36,
   "id": "2639fa0d",
   "metadata": {},
   "outputs": [
    {
     "name": "stderr",
     "output_type": "stream",
     "text": [
      "<ipython-input-36-a05e06341be8>:1: DeprecationWarning: executable_path has been deprecated, please pass in a Service object\n",
      "  driver = webdriver.Chrome(r\"C:\\Users\\HP\\Downloads\\chromedriver_win32/chromedriver.exe\")\n"
     ]
    }
   ],
   "source": [
    "driver = webdriver.Chrome(r\"C:\\Users\\HP\\Downloads\\chromedriver_win32/chromedriver.exe\")\n",
    "driver.get('https://images.google.com/')\n",
    "\n",
    "search_bar=driver.find_element_by_class_name(\"gLFyf gsfi\")\n",
    "search_bar.send_keys('fruits')\n",
    "\n",
    "time.sleep(2)\n",
    "\n",
    "search_bar=driver.find_element_by_class_name(\"gLFyf gsfi\")\n",
    "search_bar.clear()\n",
    "search_bar.send_keys('cars')\n",
    "\n",
    "time.sleep(2)\n",
    "\n",
    "\n",
    "search_bar=driver.find_element_by_class_name(\"gLFyf gsfi\")\n",
    "search_bar.clear()\n",
    "search_bar.send_keys('Machine Learning')\n",
    "\n",
    "time.sleep(2)\n",
    "#locating the button and clicking it to search for sneakers\n",
    "button=driver.find_element_by_class_name('L0Z3Pu')\n",
    "button.click()"
   ]
  },
  {
   "cell_type": "code",
   "execution_count": 38,
   "id": "37587ae9",
   "metadata": {},
   "outputs": [
    {
     "name": "stderr",
     "output_type": "stream",
     "text": [
      "<ipython-input-38-12febf76cde1>:1: DeprecationWarning: executable_path has been deprecated, please pass in a Service object\n",
      "  driver = webdriver.Chrome(r\"C:\\Users\\HP\\Downloads\\chromedriver_win32/chromedriver.exe\")\n",
      "<ipython-input-38-12febf76cde1>:8: DeprecationWarning: find_elements_by_* commands are deprecated. Please use find_elements() instead\n",
      "  fruits=driver.find_elements_by_xpath('//*[@id=\"islrg\"]/div[1]/div[1]/a[1]/div[1]/img')\n",
      "<ipython-input-38-12febf76cde1>:11: DeprecationWarning: find_elements_by_* commands are deprecated. Please use find_elements() instead\n",
      "  cars=driver.find_elements_by_xpath('//*[@id=\"islrg\"]/div[1]/div[1]/a[1]/div[1]/img')\n",
      "<ipython-input-38-12febf76cde1>:14: DeprecationWarning: find_elements_by_* commands are deprecated. Please use find_elements() instead\n",
      "  machine_learnings=driver.find_elements_by_xpath('//*[@id=\"islrg\"]/div[1]/div[1]/a[1]/div[1]/img')\n"
     ]
    }
   ],
   "source": [
    "driver = webdriver.Chrome(r\"C:\\Users\\HP\\Downloads\\chromedriver_win32/chromedriver.exe\")\n",
    "driver.get('https://www.google.com/search?q=fruits&tbm=isch&source=hp&biw=1034&bih=575&ei=AK27YZiuMPuU4-EP2Zua4AM&iflsig=ALs-wAMAAAAAYbu7EIdjBz5-ZRiPHP3ADJs46bDLXWZN&oq=fruits&gs_lcp=CgNpbWcQARgBMgsIABCABBCxAxCDATIICAAQgAQQsQMyCwgAEIAEELEDEIMBMggIABCABBCxAzILCAAQgAQQsQMQgwEyCAgAEIAEELEDMggIABCABBCxAzIICAAQgAQQsQMyCAgAEIAEELEDMgsIABCABBCxAxCDAToFCAAQgARQifIhWNr-IWCghyloAHAAeACAAboBiAHSB5IBAzAuNpgBAKABAaoBC2d3cy13aXotaW1nsAEA&sclient=img/')\n",
    "\n",
    "fruit=[]\n",
    "car=[]\n",
    "machine_learning=[]\n",
    "\n",
    "fruits=driver.find_elements_by_xpath('//*[@id=\"islrg\"]/div[1]/div[1]/a[1]/div[1]/img')\n",
    "for i in fruits:\n",
    "        fruit.append(i.text)\n",
    "        cars=driver.find_elements_by_xpath('//*[@id=\"islrg\"]/div[1]/div[1]/a[1]/div[1]/img')\n",
    "for i in cars:\n",
    "        car.append(i.text)\n",
    "        machine_learnings=driver.find_elements_by_xpath('//*[@id=\"islrg\"]/div[1]/div[1]/a[1]/div[1]/img')\n",
    "for i in machine_learnings:\n",
    "        machine_learning.append(i.text)"
   ]
  },
  {
   "cell_type": "code",
   "execution_count": 40,
   "id": "f6958e4b",
   "metadata": {},
   "outputs": [],
   "source": [
    "#creating a dataframe\n",
    "df=pd.DataFrame({'Fruits':fruit,\n",
    "                 'Cars':car,\n",
    "                 'Machine Learning':machine_learning})\n",
    "\n",
    "#printing dataframe\n",
    "df"
   ]
  },
  {
   "cell_type": "markdown",
   "id": "3436a147",
   "metadata": {},
   "source": [
    "Q4. Write a python program to search for a smartphone(e.g.: Oneplus Nord, pixel 4A, etc.) on www.flipkart.com and scrape following details for all the search results displayed on 1st page. Details to be scraped: “Brand Name”, “Smartphone name”, “Colour”, “RAM”, “Storage(ROM)”, “Primary Camera”, “Secondary Camera”, “Display Size”, “Display Resolution”, “Processor”, “Processor Cores”, “Battery Capacity”, “Price”, “Product URL”. Incase if any of the details is missing then replace it by “- “. Save your results in a dataframe and CSV."
   ]
  },
  {
   "cell_type": "code",
   "execution_count": 44,
   "id": "715014c3",
   "metadata": {},
   "outputs": [],
   "source": [
    "# Importing Libraries\n",
    "import selenium\n",
    "import pandas as pd\n",
    "import time\n",
    "from bs4 import BeautifulSoup\n",
    "\n",
    "# Importing selenium webdriver \n",
    "from selenium import webdriver\n",
    "\n",
    "# Importing required Exceptions which needs to handled\n",
    "from selenium.common.exceptions import StaleElementReferenceException, NoSuchElementException\n",
    "\n",
    "#Importing requests\n",
    "import requests\n",
    "\n",
    "# importing regex\n",
    "import re"
   ]
  },
  {
   "cell_type": "code",
   "execution_count": 54,
   "id": "e8496ed9",
   "metadata": {},
   "outputs": [
    {
     "name": "stderr",
     "output_type": "stream",
     "text": [
      "<ipython-input-54-77f49cb5088a>:1: DeprecationWarning: executable_path has been deprecated, please pass in a Service object\n",
      "  driver = webdriver.Chrome(r\"C:\\Users\\HP\\Downloads\\chromedriver_win32/chromedriver.exe\")\n"
     ]
    }
   ],
   "source": [
    "driver = webdriver.Chrome(r\"C:\\Users\\HP\\Downloads\\chromedriver_win32/chromedriver.exe\")\n",
    "\n",
    "driver.get('https://www.flipkart.com/')\n",
    "time.sleep(5)"
   ]
  },
  {
   "cell_type": "code",
   "execution_count": 55,
   "id": "ac81b8f9",
   "metadata": {},
   "outputs": [
    {
     "name": "stderr",
     "output_type": "stream",
     "text": [
      "<ipython-input-55-506eda753fe4>:2: DeprecationWarning: find_element_by_* commands are deprecated. Please use find_element() instead\n",
      "  log_in_pop_up = driver.find_element_by_xpath(\"//button[@class='_2KpZ6l _2doB4z']\")\n"
     ]
    }
   ],
   "source": [
    "#close log_in window\n",
    "log_in_pop_up = driver.find_element_by_xpath(\"//button[@class='_2KpZ6l _2doB4z']\")\n",
    "log_in_pop_up.click()"
   ]
  },
  {
   "cell_type": "code",
   "execution_count": 56,
   "id": "8dac497a",
   "metadata": {},
   "outputs": [
    {
     "name": "stderr",
     "output_type": "stream",
     "text": [
      "<ipython-input-56-439608e42e04>:2: DeprecationWarning: find_element_by_* commands are deprecated. Please use find_element() instead\n",
      "  search_bar=driver.find_element_by_class_name(\"_3704LK\")\n"
     ]
    }
   ],
   "source": [
    "\n",
    "#locating the search bar\n",
    "search_bar=driver.find_element_by_class_name(\"_3704LK\")\n",
    "search_bar.send_keys('pixel 4A')\n",
    "\n",
    "time.sleep(2)"
   ]
  },
  {
   "cell_type": "code",
   "execution_count": 57,
   "id": "8eceda5c",
   "metadata": {},
   "outputs": [],
   "source": [
    "#creating the empty list\n",
    "brand_and_smartphone_name=[]\n",
    "colour=[]\n",
    "ram_and_rom=[]\n",
    "pc_and_sc=[]\n",
    "ds_and_dr=[]\n",
    "processor_and_processor_cores=[]\n",
    "battery=[]\n",
    "price=[]\n",
    "product_url=[]\n",
    "\n",
    "\n",
    "time.sleep(3)"
   ]
  },
  {
   "cell_type": "code",
   "execution_count": 59,
   "id": "fdaf31e2",
   "metadata": {},
   "outputs": [
    {
     "name": "stderr",
     "output_type": "stream",
     "text": [
      "<ipython-input-59-c0c81bd77148>:6: DeprecationWarning: find_elements_by_* commands are deprecated. Please use find_elements() instead\n",
      "  brands=driver.find_elements_by_class_name('_4rR01T')\n",
      "<ipython-input-59-c0c81bd77148>:9: DeprecationWarning: find_elements_by_* commands are deprecated. Please use find_elements() instead\n",
      "  rams_and_roms=driver.find_elements_by_xpath('//*[@id=\"container\"]/div/div[3]/div[1]/div[2]/div[2]/div/div/div/a/div[2]/div[1]/div[3]/ul/li[1]')\n",
      "<ipython-input-59-c0c81bd77148>:12: DeprecationWarning: find_elements_by_* commands are deprecated. Please use find_elements() instead\n",
      "  pcs_and_scs=driver.find_elements_by_xpath('//*[@id=\"container\"]/div/div[3]/div[1]/div[2]/div[2]/div/div/div/a/div[2]/div[1]/div[3]/ul/li[3]')\n",
      "<ipython-input-59-c0c81bd77148>:15: DeprecationWarning: find_elements_by_* commands are deprecated. Please use find_elements() instead\n",
      "  dss_and_drs=driver.find_elements_by_xpath('//*[@id=\"container\"]/div/div[3]/div[1]/div[2]/div[2]/div/div/div/a/div[2]/div[1]/div[3]/ul/li[2]')\n",
      "<ipython-input-59-c0c81bd77148>:18: DeprecationWarning: find_elements_by_* commands are deprecated. Please use find_elements() instead\n",
      "  processors_and_processors_cores=driver.find_elements_by_xpath('//*[@id=\"container\"]/div/div[3]/div[1]/div[2]/div[2]/div/div/div/a/div[2]/div[1]/div[3]/ul/li[5]')\n",
      "<ipython-input-59-c0c81bd77148>:21: DeprecationWarning: find_elements_by_* commands are deprecated. Please use find_elements() instead\n",
      "  batterys=driver.find_elements_by_xpath('//*[@id=\"container\"]/div/div[3]/div[1]/div[2]/div[2]/div/div/div/a/div[2]/div[1]/div[3]/ul/li[4]')\n",
      "<ipython-input-59-c0c81bd77148>:24: DeprecationWarning: find_elements_by_* commands are deprecated. Please use find_elements() instead\n",
      "  prices=driver.find_elements_by_class_name('_30jeq3 _1_WHN1')\n"
     ]
    }
   ],
   "source": [
    "#scrapping the required details\n",
    "\n",
    "start=0\n",
    "end=1\n",
    "for page in range(start,end):\n",
    "    brands=driver.find_elements_by_class_name('_4rR01T')\n",
    "    for i in brands:\n",
    "        brand_and_smartphone_name.append(i.text)\n",
    "        rams_and_roms=driver.find_elements_by_xpath('//*[@id=\"container\"]/div/div[3]/div[1]/div[2]/div[2]/div/div/div/a/div[2]/div[1]/div[3]/ul/li[1]')\n",
    "    for i in rams_and_roms:\n",
    "        ram_and_rom.append(i.text)\n",
    "        pcs_and_scs=driver.find_elements_by_xpath('//*[@id=\"container\"]/div/div[3]/div[1]/div[2]/div[2]/div/div/div/a/div[2]/div[1]/div[3]/ul/li[3]')\n",
    "    for i in pcs_and_scs:\n",
    "        pc_and_sc.append(i.text)\n",
    "        dss_and_drs=driver.find_elements_by_xpath('//*[@id=\"container\"]/div/div[3]/div[1]/div[2]/div[2]/div/div/div/a/div[2]/div[1]/div[3]/ul/li[2]')\n",
    "    for i in dss_and_drs:\n",
    "        ds_and_dr.append(i.text)\n",
    "        processors_and_processors_cores=driver.find_elements_by_xpath('//*[@id=\"container\"]/div/div[3]/div[1]/div[2]/div[2]/div/div/div/a/div[2]/div[1]/div[3]/ul/li[5]')\n",
    "    for i in processors_and_processors_cores:\n",
    "        processor_and_processor_cores.append(i.text)\n",
    "        batterys=driver.find_elements_by_xpath('//*[@id=\"container\"]/div/div[3]/div[1]/div[2]/div[2]/div/div/div/a/div[2]/div[1]/div[3]/ul/li[4]')\n",
    "    for i in batterys:\n",
    "        battery.append(i.text)\n",
    "        prices=driver.find_elements_by_class_name('_30jeq3 _1_WHN1')\n",
    "    for i in prices:\n",
    "        price.append(i.text)   "
   ]
  },
  {
   "cell_type": "code",
   "execution_count": 62,
   "id": "771c60af",
   "metadata": {},
   "outputs": [
    {
     "data": {
      "text/html": [
       "<div>\n",
       "<style scoped>\n",
       "    .dataframe tbody tr th:only-of-type {\n",
       "        vertical-align: middle;\n",
       "    }\n",
       "\n",
       "    .dataframe tbody tr th {\n",
       "        vertical-align: top;\n",
       "    }\n",
       "\n",
       "    .dataframe thead th {\n",
       "        text-align: right;\n",
       "    }\n",
       "</style>\n",
       "<table border=\"1\" class=\"dataframe\">\n",
       "  <thead>\n",
       "    <tr style=\"text-align: right;\">\n",
       "      <th></th>\n",
       "      <th>Brand And Smartphone Name</th>\n",
       "    </tr>\n",
       "  </thead>\n",
       "  <tbody>\n",
       "    <tr>\n",
       "      <th>0</th>\n",
       "      <td>Google Pixel 4a (Just Black, 128 GB)</td>\n",
       "    </tr>\n",
       "    <tr>\n",
       "      <th>1</th>\n",
       "      <td>I Kall K 19 CAr</td>\n",
       "    </tr>\n",
       "    <tr>\n",
       "      <th>2</th>\n",
       "      <td>REDMI 9 Power (Fiery Red, 64 GB)</td>\n",
       "    </tr>\n",
       "    <tr>\n",
       "      <th>3</th>\n",
       "      <td>vivo Y12s 2021 (Phantom Black, 32 GB)</td>\n",
       "    </tr>\n",
       "    <tr>\n",
       "      <th>4</th>\n",
       "      <td>Redmi 9 (Sporty Orange, 64 GB)</td>\n",
       "    </tr>\n",
       "    <tr>\n",
       "      <th>5</th>\n",
       "      <td>Tecno Camon 17 (Frost Silver, 128 GB)</td>\n",
       "    </tr>\n",
       "    <tr>\n",
       "      <th>6</th>\n",
       "      <td>Redmi 9A (Nature Green, 32 GB)</td>\n",
       "    </tr>\n",
       "    <tr>\n",
       "      <th>7</th>\n",
       "      <td>Redmi 9A (Midnight Black, 32 GB)</td>\n",
       "    </tr>\n",
       "    <tr>\n",
       "      <th>8</th>\n",
       "      <td>SAMSUNG Galaxy M31 (Space Black, 128 GB)</td>\n",
       "    </tr>\n",
       "    <tr>\n",
       "      <th>9</th>\n",
       "      <td>REDMI 9 Power (Mighty Black, 64 GB)</td>\n",
       "    </tr>\n",
       "    <tr>\n",
       "      <th>10</th>\n",
       "      <td>Tecno Spark 8 (Turquoise Cyan, 64 GB)</td>\n",
       "    </tr>\n",
       "    <tr>\n",
       "      <th>11</th>\n",
       "      <td>Tecno Spark go 2021 (Maldives Blue, 32 GB)</td>\n",
       "    </tr>\n",
       "    <tr>\n",
       "      <th>12</th>\n",
       "      <td>SAMSUNG Galaxy M02 (Gray, 32 GB)</td>\n",
       "    </tr>\n",
       "    <tr>\n",
       "      <th>13</th>\n",
       "      <td>Itel A25 (Gradation Blue, 16 GB)</td>\n",
       "    </tr>\n",
       "    <tr>\n",
       "      <th>14</th>\n",
       "      <td>REDMI Note 10 Pro (Vintage Bronze, 128 GB)</td>\n",
       "    </tr>\n",
       "    <tr>\n",
       "      <th>15</th>\n",
       "      <td>Tecno Spark 7 (Spruce Green, 32 GB)</td>\n",
       "    </tr>\n",
       "    <tr>\n",
       "      <th>16</th>\n",
       "      <td>Tecno Spark 7 (Magnet Black, 32 GB)</td>\n",
       "    </tr>\n",
       "    <tr>\n",
       "      <th>17</th>\n",
       "      <td>Redmi 9A (SeaBlue, 32 GB)</td>\n",
       "    </tr>\n",
       "    <tr>\n",
       "      <th>18</th>\n",
       "      <td>OPPO A15s (Dynamic Black, 64 GB)</td>\n",
       "    </tr>\n",
       "    <tr>\n",
       "      <th>19</th>\n",
       "      <td>Tecno Spark 7T (Nebula Orange, 128 GB)</td>\n",
       "    </tr>\n",
       "    <tr>\n",
       "      <th>20</th>\n",
       "      <td>Itel A25 (Gradation Green, 16 GB)</td>\n",
       "    </tr>\n",
       "    <tr>\n",
       "      <th>21</th>\n",
       "      <td>Itel A25 (Gradation Purple, 16 GB)</td>\n",
       "    </tr>\n",
       "    <tr>\n",
       "      <th>22</th>\n",
       "      <td>SAMSUNG M21 2021 Edition (Arctic blue, 64 GB)</td>\n",
       "    </tr>\n",
       "    <tr>\n",
       "      <th>23</th>\n",
       "      <td>SAMSUNG Galaxy M02 (Black, 32 GB)</td>\n",
       "    </tr>\n",
       "  </tbody>\n",
       "</table>\n",
       "</div>"
      ],
      "text/plain": [
       "                        Brand And Smartphone Name\n",
       "0            Google Pixel 4a (Just Black, 128 GB)\n",
       "1                                 I Kall K 19 CAr\n",
       "2                REDMI 9 Power (Fiery Red, 64 GB)\n",
       "3           vivo Y12s 2021 (Phantom Black, 32 GB)\n",
       "4                  Redmi 9 (Sporty Orange, 64 GB)\n",
       "5           Tecno Camon 17 (Frost Silver, 128 GB)\n",
       "6                  Redmi 9A (Nature Green, 32 GB)\n",
       "7                Redmi 9A (Midnight Black, 32 GB)\n",
       "8        SAMSUNG Galaxy M31 (Space Black, 128 GB)\n",
       "9             REDMI 9 Power (Mighty Black, 64 GB)\n",
       "10          Tecno Spark 8 (Turquoise Cyan, 64 GB)\n",
       "11     Tecno Spark go 2021 (Maldives Blue, 32 GB)\n",
       "12               SAMSUNG Galaxy M02 (Gray, 32 GB)\n",
       "13               Itel A25 (Gradation Blue, 16 GB)\n",
       "14     REDMI Note 10 Pro (Vintage Bronze, 128 GB)\n",
       "15            Tecno Spark 7 (Spruce Green, 32 GB)\n",
       "16            Tecno Spark 7 (Magnet Black, 32 GB)\n",
       "17                      Redmi 9A (SeaBlue, 32 GB)\n",
       "18               OPPO A15s (Dynamic Black, 64 GB)\n",
       "19         Tecno Spark 7T (Nebula Orange, 128 GB)\n",
       "20              Itel A25 (Gradation Green, 16 GB)\n",
       "21             Itel A25 (Gradation Purple, 16 GB)\n",
       "22  SAMSUNG M21 2021 Edition (Arctic blue, 64 GB)\n",
       "23              SAMSUNG Galaxy M02 (Black, 32 GB)"
      ]
     },
     "execution_count": 62,
     "metadata": {},
     "output_type": "execute_result"
    }
   ],
   "source": [
    "#creating a dataframe\n",
    "df=pd.DataFrame({'Brand And Smartphone Name':brand_and_smartphone_name,\n",
    "                'RAM And ROM':ram_and_rom,\n",
    "                 'Primary Camera And Secondary Camera':pc_and_sc,\n",
    "                 'Display Size And Display Resolution':ds_and_dr,\n",
    "                 'Processors And Processors Cores':processors_and_processors_cores,\n",
    "                 'Battery':battery,\n",
    "                 'Price':price})\n",
    "\n",
    "#printing dataframe\n",
    "df"
   ]
  },
  {
   "cell_type": "markdown",
   "id": "ba7552de",
   "metadata": {},
   "source": [
    "Q5. Write a program to scrap geospatial coordinates (latitude, longitude) of a city searched on \n",
    "google maps."
   ]
  },
  {
   "cell_type": "code",
   "execution_count": 63,
   "id": "828640de",
   "metadata": {},
   "outputs": [],
   "source": [
    "# Importing Libraries\n",
    "import selenium\n",
    "import pandas as pd\n",
    "import time\n",
    "from bs4 import BeautifulSoup\n",
    "\n",
    "# Importing selenium webdriver \n",
    "from selenium import webdriver\n",
    "\n",
    "# Importing required Exceptions which needs to handled\n",
    "from selenium.common.exceptions import StaleElementReferenceException, NoSuchElementException\n",
    "\n",
    "#Importing requests\n",
    "import requests\n",
    "\n",
    "# importing regex\n",
    "import re"
   ]
  },
  {
   "cell_type": "code",
   "execution_count": 67,
   "id": "cab8d052",
   "metadata": {},
   "outputs": [
    {
     "name": "stderr",
     "output_type": "stream",
     "text": [
      "<ipython-input-67-a4b72265fd34>:1: DeprecationWarning: executable_path has been deprecated, please pass in a Service object\n",
      "  driver = webdriver.Chrome(r\"C:\\Users\\HP\\Downloads\\chromedriver_win32/chromedriver.exe\")\n"
     ]
    }
   ],
   "source": [
    "driver = webdriver.Chrome(r\"C:\\Users\\HP\\Downloads\\chromedriver_win32/chromedriver.exe\")\n",
    "driver.get('https://www.google.com/maps/place/New+Delhi,+Delhi/@28.5272803,77.0688997,11z/data=!3m1!4b1!4m5!3m4!1s0x390cfd5b347eb62d:0x52c2b7494e204dce!8m2!3d28.6139391!4d77.2090212/')"
   ]
  },
  {
   "cell_type": "markdown",
   "id": "7c1ecd93",
   "metadata": {},
   "source": [
    "Q6. Write a program to scrap details of all the funding deals for second quarter (i.e. July 20 –\n",
    "September 20) from trak.in."
   ]
  },
  {
   "cell_type": "code",
   "execution_count": 68,
   "id": "91bd7181",
   "metadata": {},
   "outputs": [],
   "source": [
    "# Importing Libraries\n",
    "import selenium\n",
    "import pandas as pd\n",
    "import time\n",
    "from bs4 import BeautifulSoup\n",
    "\n",
    "# Importing selenium webdriver \n",
    "from selenium import webdriver\n",
    "\n",
    "# Importing required Exceptions which needs to handled\n",
    "from selenium.common.exceptions import StaleElementReferenceException, NoSuchElementException\n",
    "\n",
    "#Importing requests\n",
    "import requests\n",
    "\n",
    "# importing regex\n",
    "import re"
   ]
  },
  {
   "cell_type": "code",
   "execution_count": 71,
   "id": "98b1a639",
   "metadata": {},
   "outputs": [
    {
     "name": "stderr",
     "output_type": "stream",
     "text": [
      "<ipython-input-71-34b202603091>:1: DeprecationWarning: executable_path has been deprecated, please pass in a Service object\n",
      "  driver = webdriver.Chrome(r\"C:\\Users\\HP\\Downloads\\chromedriver_win32/chromedriver.exe\")\n"
     ]
    }
   ],
   "source": [
    "driver = webdriver.Chrome(r\"C:\\Users\\HP\\Downloads\\chromedriver_win32/chromedriver.exe\")\n",
    "driver.get('https://trak.in/')"
   ]
  },
  {
   "cell_type": "code",
   "execution_count": 72,
   "id": "ceec7b78",
   "metadata": {},
   "outputs": [],
   "source": [
    "driver.get('https://trak.in/india-startup-funding-investment-2015/')\n"
   ]
  },
  {
   "cell_type": "markdown",
   "id": "d3285eb3",
   "metadata": {},
   "source": [
    "Q7. Write a program to scrap all the available details of best gaming laptops from digit.in."
   ]
  },
  {
   "cell_type": "code",
   "execution_count": 73,
   "id": "7236739c",
   "metadata": {},
   "outputs": [],
   "source": [
    "# Importing Libraries\n",
    "import selenium\n",
    "import pandas as pd\n",
    "import time\n",
    "from bs4 import BeautifulSoup\n",
    "\n",
    "# Importing selenium webdriver \n",
    "from selenium import webdriver\n",
    "\n",
    "# Importing required Exceptions which needs to handled\n",
    "from selenium.common.exceptions import StaleElementReferenceException, NoSuchElementException\n",
    "\n",
    "#Importing requests\n",
    "import requests\n",
    "\n",
    "# importing regex\n",
    "import re"
   ]
  },
  {
   "cell_type": "code",
   "execution_count": 74,
   "id": "4006c3c8",
   "metadata": {},
   "outputs": [
    {
     "name": "stderr",
     "output_type": "stream",
     "text": [
      "<ipython-input-74-cab358230117>:1: DeprecationWarning: executable_path has been deprecated, please pass in a Service object\n",
      "  driver = webdriver.Chrome(r\"C:\\Users\\HP\\Downloads\\chromedriver_win32/chromedriver.exe\")\n"
     ]
    }
   ],
   "source": [
    "driver = webdriver.Chrome(r\"C:\\Users\\HP\\Downloads\\chromedriver_win32/chromedriver.exe\")\n",
    "driver.get('https://www.digit.in/search/?keyword=gaming%20laptop/')"
   ]
  },
  {
   "cell_type": "code",
   "execution_count": 76,
   "id": "252ba3b8",
   "metadata": {},
   "outputs": [
    {
     "name": "stderr",
     "output_type": "stream",
     "text": [
      "<ipython-input-76-831878294521>:9: DeprecationWarning: find_elements_by_* commands are deprecated. Please use find_elements() instead\n",
      "  brand_descriptions=driver.find_elements_by_class_name('searchProduct-desc')\n"
     ]
    }
   ],
   "source": [
    "#creating the empty list\n",
    "brand_description=[]\n",
    "\n",
    "time.sleep(3)\n",
    "#scrapping the required details\n",
    "start=0\n",
    "end=3\n",
    "for page in range(start,end):#for loop for scrapping 4 page\n",
    "    brand_descriptions=driver.find_elements_by_class_name('searchProduct-desc')\n",
    "    for i in brand_descriptions:\n",
    "        brand_description.append(i.text)"
   ]
  },
  {
   "cell_type": "code",
   "execution_count": 77,
   "id": "73567d8e",
   "metadata": {},
   "outputs": [
    {
     "data": {
      "text/html": [
       "<div>\n",
       "<style scoped>\n",
       "    .dataframe tbody tr th:only-of-type {\n",
       "        vertical-align: middle;\n",
       "    }\n",
       "\n",
       "    .dataframe tbody tr th {\n",
       "        vertical-align: top;\n",
       "    }\n",
       "\n",
       "    .dataframe thead th {\n",
       "        text-align: right;\n",
       "    }\n",
       "</style>\n",
       "<table border=\"1\" class=\"dataframe\">\n",
       "  <thead>\n",
       "    <tr style=\"text-align: right;\">\n",
       "      <th></th>\n",
       "      <th>Brand And Description</th>\n",
       "    </tr>\n",
       "  </thead>\n",
       "  <tbody>\n",
       "    <tr>\n",
       "      <th>0</th>\n",
       "      <td>ASUS GX501 Zephyrus Gaming Laptop</td>\n",
       "    </tr>\n",
       "    <tr>\n",
       "      <th>1</th>\n",
       "      <td>Asus G750JX-CV069P</td>\n",
       "    </tr>\n",
       "    <tr>\n",
       "      <th>2</th>\n",
       "      <td>Asus TUF Gaming A17</td>\n",
       "    </tr>\n",
       "    <tr>\n",
       "      <th>3</th>\n",
       "      <td>MSI Gaming GL63 9RDS-853IN</td>\n",
       "    </tr>\n",
       "    <tr>\n",
       "      <th>4</th>\n",
       "      <td>HP Omen Ryzen 5 4600H</td>\n",
       "    </tr>\n",
       "    <tr>\n",
       "      <th>5</th>\n",
       "      <td>HP Pavilion G6-1202TX</td>\n",
       "    </tr>\n",
       "    <tr>\n",
       "      <th>6</th>\n",
       "      <td>HP Pavilion Gaming 15-ec0026AX</td>\n",
       "    </tr>\n",
       "    <tr>\n",
       "      <th>7</th>\n",
       "      <td>HP Pavilion Gaming 10th Gen Core i5-10300H (2021)</td>\n",
       "    </tr>\n",
       "    <tr>\n",
       "      <th>8</th>\n",
       "      <td>ASUS ROG GX800</td>\n",
       "    </tr>\n",
       "    <tr>\n",
       "      <th>9</th>\n",
       "      <td>Asus ROG Strix GL502VS</td>\n",
       "    </tr>\n",
       "    <tr>\n",
       "      <th>10</th>\n",
       "      <td>ASUS GX501 Zephyrus Gaming Laptop</td>\n",
       "    </tr>\n",
       "    <tr>\n",
       "      <th>11</th>\n",
       "      <td>Asus G750JX-CV069P</td>\n",
       "    </tr>\n",
       "    <tr>\n",
       "      <th>12</th>\n",
       "      <td>Asus TUF Gaming A17</td>\n",
       "    </tr>\n",
       "    <tr>\n",
       "      <th>13</th>\n",
       "      <td>MSI Gaming GL63 9RDS-853IN</td>\n",
       "    </tr>\n",
       "    <tr>\n",
       "      <th>14</th>\n",
       "      <td>HP Omen Ryzen 5 4600H</td>\n",
       "    </tr>\n",
       "    <tr>\n",
       "      <th>15</th>\n",
       "      <td>HP Pavilion G6-1202TX</td>\n",
       "    </tr>\n",
       "    <tr>\n",
       "      <th>16</th>\n",
       "      <td>HP Pavilion Gaming 15-ec0026AX</td>\n",
       "    </tr>\n",
       "    <tr>\n",
       "      <th>17</th>\n",
       "      <td>HP Pavilion Gaming 10th Gen Core i5-10300H (2021)</td>\n",
       "    </tr>\n",
       "    <tr>\n",
       "      <th>18</th>\n",
       "      <td>ASUS ROG GX800</td>\n",
       "    </tr>\n",
       "    <tr>\n",
       "      <th>19</th>\n",
       "      <td>Asus ROG Strix GL502VS</td>\n",
       "    </tr>\n",
       "    <tr>\n",
       "      <th>20</th>\n",
       "      <td>ASUS GX501 Zephyrus Gaming Laptop</td>\n",
       "    </tr>\n",
       "    <tr>\n",
       "      <th>21</th>\n",
       "      <td>Asus G750JX-CV069P</td>\n",
       "    </tr>\n",
       "    <tr>\n",
       "      <th>22</th>\n",
       "      <td>Asus TUF Gaming A17</td>\n",
       "    </tr>\n",
       "    <tr>\n",
       "      <th>23</th>\n",
       "      <td>MSI Gaming GL63 9RDS-853IN</td>\n",
       "    </tr>\n",
       "    <tr>\n",
       "      <th>24</th>\n",
       "      <td>HP Omen Ryzen 5 4600H</td>\n",
       "    </tr>\n",
       "    <tr>\n",
       "      <th>25</th>\n",
       "      <td>HP Pavilion G6-1202TX</td>\n",
       "    </tr>\n",
       "    <tr>\n",
       "      <th>26</th>\n",
       "      <td>HP Pavilion Gaming 15-ec0026AX</td>\n",
       "    </tr>\n",
       "    <tr>\n",
       "      <th>27</th>\n",
       "      <td>HP Pavilion Gaming 10th Gen Core i5-10300H (2021)</td>\n",
       "    </tr>\n",
       "    <tr>\n",
       "      <th>28</th>\n",
       "      <td>ASUS ROG GX800</td>\n",
       "    </tr>\n",
       "    <tr>\n",
       "      <th>29</th>\n",
       "      <td>Asus ROG Strix GL502VS</td>\n",
       "    </tr>\n",
       "  </tbody>\n",
       "</table>\n",
       "</div>"
      ],
      "text/plain": [
       "                                Brand And Description\n",
       "0                   ASUS GX501 Zephyrus Gaming Laptop\n",
       "1                                  Asus G750JX-CV069P\n",
       "2                                 Asus TUF Gaming A17\n",
       "3                          MSI Gaming GL63 9RDS-853IN\n",
       "4                               HP Omen Ryzen 5 4600H\n",
       "5                               HP Pavilion G6-1202TX\n",
       "6                      HP Pavilion Gaming 15-ec0026AX\n",
       "7   HP Pavilion Gaming 10th Gen Core i5-10300H (2021)\n",
       "8                                      ASUS ROG GX800\n",
       "9                              Asus ROG Strix GL502VS\n",
       "10                  ASUS GX501 Zephyrus Gaming Laptop\n",
       "11                                 Asus G750JX-CV069P\n",
       "12                                Asus TUF Gaming A17\n",
       "13                         MSI Gaming GL63 9RDS-853IN\n",
       "14                              HP Omen Ryzen 5 4600H\n",
       "15                              HP Pavilion G6-1202TX\n",
       "16                     HP Pavilion Gaming 15-ec0026AX\n",
       "17  HP Pavilion Gaming 10th Gen Core i5-10300H (2021)\n",
       "18                                     ASUS ROG GX800\n",
       "19                             Asus ROG Strix GL502VS\n",
       "20                  ASUS GX501 Zephyrus Gaming Laptop\n",
       "21                                 Asus G750JX-CV069P\n",
       "22                                Asus TUF Gaming A17\n",
       "23                         MSI Gaming GL63 9RDS-853IN\n",
       "24                              HP Omen Ryzen 5 4600H\n",
       "25                              HP Pavilion G6-1202TX\n",
       "26                     HP Pavilion Gaming 15-ec0026AX\n",
       "27  HP Pavilion Gaming 10th Gen Core i5-10300H (2021)\n",
       "28                                     ASUS ROG GX800\n",
       "29                             Asus ROG Strix GL502VS"
      ]
     },
     "execution_count": 77,
     "metadata": {},
     "output_type": "execute_result"
    }
   ],
   "source": [
    "#creating a dataframe\n",
    "df=pd.DataFrame({'Brand And Description':brand_description})\n",
    "#printing dataframe\n",
    "df"
   ]
  },
  {
   "cell_type": "markdown",
   "id": "c390f145",
   "metadata": {},
   "source": [
    "Q8. Write a python program to scrape the details for all billionaires from www.forbes.com. \n",
    "Details to be scrapped: “Rank”, “Name”, “Net worth”, “Age”, “Citizenship”, “Source”, \n",
    "“Industry”.\n"
   ]
  },
  {
   "cell_type": "code",
   "execution_count": 78,
   "id": "5607f887",
   "metadata": {},
   "outputs": [],
   "source": [
    "# Importing Libraries\n",
    "import selenium\n",
    "import pandas as pd\n",
    "import time\n",
    "from bs4 import BeautifulSoup\n",
    "\n",
    "# Importing selenium webdriver \n",
    "from selenium import webdriver\n",
    "\n",
    "# Importing required Exceptions which needs to handled\n",
    "from selenium.common.exceptions import StaleElementReferenceException, NoSuchElementException\n",
    "\n",
    "#Importing requests\n",
    "import requests\n",
    "\n",
    "# importing regex\n",
    "import re"
   ]
  },
  {
   "cell_type": "code",
   "execution_count": 79,
   "id": "af2d67fe",
   "metadata": {},
   "outputs": [
    {
     "name": "stderr",
     "output_type": "stream",
     "text": [
      "<ipython-input-79-4a6825b0858c>:1: DeprecationWarning: executable_path has been deprecated, please pass in a Service object\n",
      "  driver = webdriver.Chrome(r\"C:\\Users\\HP\\Downloads\\chromedriver_win32/chromedriver.exe\")\n"
     ]
    }
   ],
   "source": [
    "driver = webdriver.Chrome(r\"C:\\Users\\HP\\Downloads\\chromedriver_win32/chromedriver.exe\")\n",
    "driver.get('https://www.forbes.com/billionaires/')"
   ]
  },
  {
   "cell_type": "code",
   "execution_count": 82,
   "id": "65709251",
   "metadata": {},
   "outputs": [],
   "source": [
    "#creating the empty list\n",
    "rank=[]\n",
    "name=[]\n",
    "net_worth=[]\n",
    "age=[]\n",
    "citizenship=[]\n",
    "source=[]\n",
    "industry=[]\n",
    "\n",
    "time.sleep(3)"
   ]
  },
  {
   "cell_type": "code",
   "execution_count": 91,
   "id": "8437aaad",
   "metadata": {},
   "outputs": [
    {
     "name": "stderr",
     "output_type": "stream",
     "text": [
      "<ipython-input-91-359444256c8d>:4: DeprecationWarning: find_elements_by_* commands are deprecated. Please use find_elements() instead\n",
      "  ranks=driver.find_elements_by_class_name('rank')\n",
      "<ipython-input-91-359444256c8d>:7: DeprecationWarning: find_elements_by_* commands are deprecated. Please use find_elements() instead\n",
      "  names=driver.find_elements_by_class_name('personName')\n",
      "<ipython-input-91-359444256c8d>:10: DeprecationWarning: find_elements_by_* commands are deprecated. Please use find_elements() instead\n",
      "  net_worths=driver.find_elements_by_class_name('netWorth')\n",
      "<ipython-input-91-359444256c8d>:13: DeprecationWarning: find_elements_by_* commands are deprecated. Please use find_elements() instead\n",
      "  ages=driver.find_elements_by_class_name('age')\n",
      "<ipython-input-91-359444256c8d>:16: DeprecationWarning: find_elements_by_* commands are deprecated. Please use find_elements() instead\n",
      "  citizenships=driver.find_elements_by_class_name('countryOfCitizenship')\n",
      "<ipython-input-91-359444256c8d>:19: DeprecationWarning: find_elements_by_* commands are deprecated. Please use find_elements() instead\n",
      "  sources=driver.find_elements_by_class_name('source')\n",
      "<ipython-input-91-359444256c8d>:22: DeprecationWarning: find_elements_by_* commands are deprecated. Please use find_elements() instead\n",
      "  industrys=driver.find_elements_by_class_name('category')\n"
     ]
    }
   ],
   "source": [
    "start=0\n",
    "end=1\n",
    "for page in range(start,end):\n",
    "    ranks=driver.find_elements_by_class_name('rank')\n",
    "    for i in ranks[0:10]:\n",
    "        rank.append(i.text)\n",
    "        names=driver.find_elements_by_class_name('personName')\n",
    "    for i in names[0:10]:\n",
    "        name.append(i.text)\n",
    "        net_worths=driver.find_elements_by_class_name('netWorth')\n",
    "    for i in net_worths[0:10]:\n",
    "        net_worth.append(i.text)\n",
    "        ages=driver.find_elements_by_class_name('age')\n",
    "    for i in ages[0:10]:\n",
    "        age.append(i.text)\n",
    "        citizenships=driver.find_elements_by_class_name('countryOfCitizenship')\n",
    "    for i in citizenships[0:10]:\n",
    "        citizenship.append(i.text)\n",
    "        sources=driver.find_elements_by_class_name('source')\n",
    "    for i in sources[0:10]:\n",
    "        source.append(i.text)\n",
    "        industrys=driver.find_elements_by_class_name('category')\n",
    "    for i in industrys[0:10]:\n",
    "        industry.append(i.text)   \n",
    "        "
   ]
  },
  {
   "cell_type": "code",
   "execution_count": 108,
   "id": "ed00f275",
   "metadata": {},
   "outputs": [
    {
     "data": {
      "text/html": [
       "<div>\n",
       "<style scoped>\n",
       "    .dataframe tbody tr th:only-of-type {\n",
       "        vertical-align: middle;\n",
       "    }\n",
       "\n",
       "    .dataframe tbody tr th {\n",
       "        vertical-align: top;\n",
       "    }\n",
       "\n",
       "    .dataframe thead th {\n",
       "        text-align: right;\n",
       "    }\n",
       "</style>\n",
       "<table border=\"1\" class=\"dataframe\">\n",
       "  <thead>\n",
       "    <tr style=\"text-align: right;\">\n",
       "      <th></th>\n",
       "      <th>Rank</th>\n",
       "    </tr>\n",
       "  </thead>\n",
       "  <tbody>\n",
       "    <tr>\n",
       "      <th>0</th>\n",
       "      <td>RANK</td>\n",
       "    </tr>\n",
       "    <tr>\n",
       "      <th>1</th>\n",
       "      <td>1.</td>\n",
       "    </tr>\n",
       "    <tr>\n",
       "      <th>2</th>\n",
       "      <td>2.</td>\n",
       "    </tr>\n",
       "    <tr>\n",
       "      <th>3</th>\n",
       "      <td>3.</td>\n",
       "    </tr>\n",
       "    <tr>\n",
       "      <th>4</th>\n",
       "      <td>4.</td>\n",
       "    </tr>\n",
       "    <tr>\n",
       "      <th>...</th>\n",
       "      <td>...</td>\n",
       "    </tr>\n",
       "    <tr>\n",
       "      <th>618</th>\n",
       "      <td>2674.</td>\n",
       "    </tr>\n",
       "    <tr>\n",
       "      <th>619</th>\n",
       "      <td>2674.</td>\n",
       "    </tr>\n",
       "    <tr>\n",
       "      <th>620</th>\n",
       "      <td>2674.</td>\n",
       "    </tr>\n",
       "    <tr>\n",
       "      <th>621</th>\n",
       "      <td>2674.</td>\n",
       "    </tr>\n",
       "    <tr>\n",
       "      <th>622</th>\n",
       "      <td>2674.</td>\n",
       "    </tr>\n",
       "  </tbody>\n",
       "</table>\n",
       "<p>623 rows × 1 columns</p>\n",
       "</div>"
      ],
      "text/plain": [
       "      Rank\n",
       "0     RANK\n",
       "1       1.\n",
       "2       2.\n",
       "3       3.\n",
       "4       4.\n",
       "..     ...\n",
       "618  2674.\n",
       "619  2674.\n",
       "620  2674.\n",
       "621  2674.\n",
       "622  2674.\n",
       "\n",
       "[623 rows x 1 columns]"
      ]
     },
     "execution_count": 108,
     "metadata": {},
     "output_type": "execute_result"
    }
   ],
   "source": [
    "#creating a dataframe\n",
    "df=pd.DataFrame({'Rank':rank,'Name':name,'Net Worth':net_worth,'Age':age,'Citizenship':citizenship,'Source':source,'Industry':industry})\n",
    "\n",
    "#printing dataframe\n",
    "df"
   ]
  },
  {
   "cell_type": "markdown",
   "id": "68345e75",
   "metadata": {},
   "source": [
    "Q9. Write a program to extract at least 500 Comments, Comment upvote and time when comment was posted from any YouTube Video."
   ]
  },
  {
   "cell_type": "code",
   "execution_count": 109,
   "id": "dccc7406",
   "metadata": {},
   "outputs": [],
   "source": [
    "# Importing Libraries\n",
    "import selenium\n",
    "import pandas as pd\n",
    "import time\n",
    "from bs4 import BeautifulSoup\n",
    "\n",
    "# Importing selenium webdriver \n",
    "from selenium import webdriver\n",
    "\n",
    "# Importing required Exceptions which needs to handled\n",
    "from selenium.common.exceptions import StaleElementReferenceException, NoSuchElementException\n",
    "\n",
    "#Importing requests\n",
    "import requests\n",
    "\n",
    "# importing regex\n",
    "import re"
   ]
  },
  {
   "cell_type": "code",
   "execution_count": 114,
   "id": "7291ad65",
   "metadata": {},
   "outputs": [
    {
     "name": "stderr",
     "output_type": "stream",
     "text": [
      "<ipython-input-114-de9fb923d8e0>:1: DeprecationWarning: executable_path has been deprecated, please pass in a Service object\n",
      "  driver = webdriver.Chrome(r\"C:\\Users\\HP\\Downloads\\chromedriver_win32/chromedriver.exe\")\n"
     ]
    }
   ],
   "source": [
    "driver = webdriver.Chrome(r\"C:\\Users\\HP\\Downloads\\chromedriver_win32/chromedriver.exe\")\n",
    "\n",
    "driver.get('https://www.youtube.com/watch?v=Y_2y4y0kQig')\n",
    "time.sleep(5)"
   ]
  },
  {
   "cell_type": "code",
   "execution_count": 119,
   "id": "37665378",
   "metadata": {},
   "outputs": [],
   "source": [
    "# creating empty lists for scraping data\n",
    "comments=[]\n",
    "upvotes=[]\n",
    "comment_times=[]\n",
    "\n",
    "time.sleep(3)"
   ]
  },
  {
   "cell_type": "code",
   "execution_count": 120,
   "id": "a2d347b1",
   "metadata": {},
   "outputs": [
    {
     "name": "stderr",
     "output_type": "stream",
     "text": [
      "<ipython-input-120-10f6d98b934b>:6: DeprecationWarning: find_elements_by_* commands are deprecated. Please use find_elements() instead\n",
      "  comments=driver.find_elements_by_class_name('split-lines')\n"
     ]
    }
   ],
   "source": [
    "#scraping the comments upvote and comment_time\n",
    "\n",
    "start=0\n",
    "end=1\n",
    "for page in range(start,end):\n",
    "    comments=driver.find_elements_by_class_name('split-lines')\n",
    "    for i in comments:\n",
    "        comment.append(i.text)\n",
    "        upvotes=driver.find_elements_by_class_name('vote-count-middle')\n",
    "    for i in upvotes:\n",
    "        upvote.append(i.text)\n",
    "        comment_times=driver.find_elements_by_class_name('yt-simple-endpoint style-scope yt-formatted-string')\n",
    "    for i in comment_times:\n",
    "        comment_time.append(i.text)"
   ]
  },
  {
   "cell_type": "code",
   "execution_count": 124,
   "id": "e2754035",
   "metadata": {},
   "outputs": [
    {
     "data": {
      "text/html": [
       "<div>\n",
       "<style scoped>\n",
       "    .dataframe tbody tr th:only-of-type {\n",
       "        vertical-align: middle;\n",
       "    }\n",
       "\n",
       "    .dataframe tbody tr th {\n",
       "        vertical-align: top;\n",
       "    }\n",
       "\n",
       "    .dataframe thead th {\n",
       "        text-align: right;\n",
       "    }\n",
       "</style>\n",
       "<table border=\"1\" class=\"dataframe\">\n",
       "  <thead>\n",
       "    <tr style=\"text-align: right;\">\n",
       "      <th></th>\n",
       "      <th>Comment</th>\n",
       "    </tr>\n",
       "  </thead>\n",
       "  <tbody>\n",
       "  </tbody>\n",
       "</table>\n",
       "</div>"
      ],
      "text/plain": [
       "Empty DataFrame\n",
       "Columns: [Comment]\n",
       "Index: []"
      ]
     },
     "execution_count": 124,
     "metadata": {},
     "output_type": "execute_result"
    }
   ],
   "source": [
    "#creating a dataframe\n",
    "df=pd.DataFrame({'Comment':comments,'Upvote':Upvotes,'Comment Time':comment_times})\n",
    "\n",
    "#printing dataframe\n",
    "df"
   ]
  },
  {
   "cell_type": "markdown",
   "id": "5cd95f45",
   "metadata": {},
   "source": [
    "Q10. Write a python program to scrape a data for all available Hostels from \n",
    "https://www.hostelworld.com/ in “London” location. You have to scrape hostel name, \n",
    "distance from city centre, ratings, total reviews, overall reviews, privates from price, dorms \n",
    "from price, facilities and property description."
   ]
  },
  {
   "cell_type": "code",
   "execution_count": 125,
   "id": "b888b368",
   "metadata": {},
   "outputs": [],
   "source": [
    "# Importing Libraries\n",
    "import selenium\n",
    "import pandas as pd\n",
    "import time\n",
    "from bs4 import BeautifulSoup\n",
    "\n",
    "# Importing selenium webdriver \n",
    "from selenium import webdriver\n",
    "\n",
    "# Importing required Exceptions which needs to handled\n",
    "from selenium.common.exceptions import StaleElementReferenceException, NoSuchElementException\n",
    "\n",
    "#Importing requests\n",
    "import requests\n",
    "\n",
    "# importing regex\n",
    "import re"
   ]
  },
  {
   "cell_type": "code",
   "execution_count": 126,
   "id": "b8ced825",
   "metadata": {},
   "outputs": [
    {
     "name": "stderr",
     "output_type": "stream",
     "text": [
      "<ipython-input-126-dde01cc22c97>:1: DeprecationWarning: executable_path has been deprecated, please pass in a Service object\n",
      "  driver = webdriver.Chrome(r\"C:\\Users\\HP\\Downloads\\chromedriver_win32/chromedriver.exe\")\n"
     ]
    }
   ],
   "source": [
    "driver = webdriver.Chrome(r\"C:\\Users\\HP\\Downloads\\chromedriver_win32/chromedriver.exe\")\n",
    "driver.get('https://www.hostelworld.com/')"
   ]
  },
  {
   "cell_type": "code",
   "execution_count": null,
   "id": "8344271d",
   "metadata": {},
   "outputs": [],
   "source": []
  }
 ],
 "metadata": {
  "kernelspec": {
   "display_name": "Python 3",
   "language": "python",
   "name": "python3"
  },
  "language_info": {
   "codemirror_mode": {
    "name": "ipython",
    "version": 3
   },
   "file_extension": ".py",
   "mimetype": "text/x-python",
   "name": "python",
   "nbconvert_exporter": "python",
   "pygments_lexer": "ipython3",
   "version": "3.8.8"
  }
 },
 "nbformat": 4,
 "nbformat_minor": 5
}
